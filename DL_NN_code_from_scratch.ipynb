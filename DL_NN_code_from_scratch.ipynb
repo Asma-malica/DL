{
  "nbformat": 4,
  "nbformat_minor": 0,
  "metadata": {
    "colab": {
      "provenance": [],
      "authorship_tag": "ABX9TyPcqhrFdYEkGFTdoK24cvqi",
      "include_colab_link": true
    },
    "kernelspec": {
      "name": "python3",
      "display_name": "Python 3"
    },
    "language_info": {
      "name": "python"
    }
  },
  "cells": [
    {
      "cell_type": "markdown",
      "metadata": {
        "id": "view-in-github",
        "colab_type": "text"
      },
      "source": [
        "<a href=\"https://colab.research.google.com/github/Asma-malica/DL/blob/main/DL_NN_code_from_scratch.ipynb\" target=\"_parent\"><img src=\"https://colab.research.google.com/assets/colab-badge.svg\" alt=\"Open In Colab\"/></a>"
      ]
    },
    {
      "cell_type": "code",
      "execution_count": null,
      "metadata": {
        "id": "O_r2qmgYRxsr"
      },
      "outputs": [],
      "source": [
        "import numpy as np\n",
        "from sklearn.datasets import load_iris"
      ]
    },
    {
      "cell_type": "code",
      "source": [
        "# x=np.array([[1,0,1,0],[1,0,1,1],[0,1,0,1]])\n",
        "# x\n",
        "\n",
        "# Load Iris dataset\n",
        "iris = load_iris()\n",
        "x = iris.data\n",
        "y = iris.target.reshape(-1, 1)\n"
      ],
      "metadata": {
        "id": "uN6Gd748Sw6y"
      },
      "execution_count": null,
      "outputs": []
    },
    {
      "cell_type": "code",
      "source": [
        "# y = np.array([[1],[0],[1]])\n",
        "# y"
      ],
      "metadata": {
        "id": "M-Vm6052S_m_"
      },
      "execution_count": null,
      "outputs": []
    },
    {
      "cell_type": "code",
      "source": [
        "def sigmoid(x):\n",
        "  return 1/(1+np.exp(-x))"
      ],
      "metadata": {
        "id": "JQcEFFERTU6B"
      },
      "execution_count": null,
      "outputs": []
    },
    {
      "cell_type": "code",
      "source": [
        "def derivative_sigmoid(x):\n",
        "  return x*(1-x)"
      ],
      "metadata": {
        "id": "bDP1ys1vTlpC"
      },
      "execution_count": null,
      "outputs": []
    },
    {
      "cell_type": "code",
      "source": [
        "epoch = 5000\n",
        "lr = 0.1 #learning_rate\n",
        "input_neurons = x.shape[1]\n",
        "hidden_neurons = 2\n",
        "output_neurons = 1"
      ],
      "metadata": {
        "id": "AY62oXGRUQQ6"
      },
      "execution_count": null,
      "outputs": []
    },
    {
      "cell_type": "code",
      "source": [
        "#uniform  -->  based on input ... it takes the random value for wh,bh,wo,bo\n",
        "# wh --> weight of hidden layer # bias  # weight of the output  # bias of the output layer\n",
        "wh = np.random.uniform(size=(input_neurons,hidden_neurons))\n",
        "bh = np.random.uniform(size=(1,hidden_neurons))\n",
        "wo = np.random.uniform(size=(hidden_neurons,output_neurons))\n",
        "bo = np.random.uniform(size=(1,output_neurons))"
      ],
      "metadata": {
        "id": "_5IhHiImUmNC"
      },
      "execution_count": null,
      "outputs": []
    },
    {
      "cell_type": "code",
      "source": [
        "#This coding is same as Perceptron in MachineLearning\n",
        "\n",
        "for i in range(epoch):\n",
        "  #forward Propagation\n",
        "  hidden_input=np.dot(x,wh)\n",
        "  hidden_input=hidden_input+bh\n",
        "  hidden_activation=sigmoid(hidden_input)\n",
        "  output_layer=np.dot(hidden_activation,wo)\n",
        "  output=sigmoid(output_layer)\n",
        "\n",
        "  #backward Propagation\n",
        "\n",
        "  E=y-output   #Error --> target - predicted\n",
        "  slope_output=derivative_sigmoid(output)\n",
        "  slope_hidden=derivative_sigmoid(hidden_activation)\n",
        "  d_output=E*slope_output\n",
        "  error_hidden=d_output.dot(wo.T)\n",
        "  d_hidden=error_hidden*slope_hidden\n",
        "  wo+=hidden_activation.T.dot(d_output)*lr\n",
        "  bo+=np.sum(d_output,axis=0,keepdims=True)*lr\n",
        "  wh+=x.T.dot(d_hidden)*lr\n",
        "  bh+=np.sum(d_hidden,axis=0,keepdims=True)*lr\n"
      ],
      "metadata": {
        "id": "my1ajFStVgPY"
      },
      "execution_count": null,
      "outputs": []
    },
    {
      "cell_type": "code",
      "source": [
        "output"
      ],
      "metadata": {
        "colab": {
          "base_uri": "https://localhost:8080/"
        },
        "id": "aU6QduNreCf0",
        "outputId": "606632ee-0cdd-4f6b-9bef-728fb78911df"
      },
      "execution_count": null,
      "outputs": [
        {
          "output_type": "execute_result",
          "data": {
            "text/plain": [
              "array([[0.99812779],\n",
              "       [0.99812779],\n",
              "       [0.99812779],\n",
              "       [0.99812779],\n",
              "       [0.99812779],\n",
              "       [0.9981278 ],\n",
              "       [0.99812779],\n",
              "       [0.99812779],\n",
              "       [0.99812778],\n",
              "       [0.99812779],\n",
              "       [0.9981278 ],\n",
              "       [0.99812779],\n",
              "       [0.99812779],\n",
              "       [0.99812774],\n",
              "       [0.9981278 ],\n",
              "       [0.9981278 ],\n",
              "       [0.9981278 ],\n",
              "       [0.99812779],\n",
              "       [0.9981278 ],\n",
              "       [0.9981278 ],\n",
              "       [0.9981278 ],\n",
              "       [0.9981278 ],\n",
              "       [0.99812777],\n",
              "       [0.9981278 ],\n",
              "       [0.9981278 ],\n",
              "       [0.99812779],\n",
              "       [0.9981278 ],\n",
              "       [0.9981278 ],\n",
              "       [0.99812779],\n",
              "       [0.99812779],\n",
              "       [0.99812779],\n",
              "       [0.9981278 ],\n",
              "       [0.9981278 ],\n",
              "       [0.9981278 ],\n",
              "       [0.99812779],\n",
              "       [0.99812779],\n",
              "       [0.9981278 ],\n",
              "       [0.99812779],\n",
              "       [0.99812778],\n",
              "       [0.99812779],\n",
              "       [0.99812779],\n",
              "       [0.99812778],\n",
              "       [0.99812778],\n",
              "       [0.9981278 ],\n",
              "       [0.9981278 ],\n",
              "       [0.99812779],\n",
              "       [0.9981278 ],\n",
              "       [0.99812779],\n",
              "       [0.9981278 ],\n",
              "       [0.99812779],\n",
              "       [0.9981278 ],\n",
              "       [0.9981278 ],\n",
              "       [0.9981278 ],\n",
              "       [0.9981278 ],\n",
              "       [0.9981278 ],\n",
              "       [0.9981278 ],\n",
              "       [0.9981278 ],\n",
              "       [0.9981278 ],\n",
              "       [0.9981278 ],\n",
              "       [0.9981278 ],\n",
              "       [0.9981278 ],\n",
              "       [0.9981278 ],\n",
              "       [0.9981278 ],\n",
              "       [0.9981278 ],\n",
              "       [0.9981278 ],\n",
              "       [0.9981278 ],\n",
              "       [0.9981278 ],\n",
              "       [0.9981278 ],\n",
              "       [0.9981278 ],\n",
              "       [0.9981278 ],\n",
              "       [0.9981278 ],\n",
              "       [0.9981278 ],\n",
              "       [0.9981278 ],\n",
              "       [0.9981278 ],\n",
              "       [0.9981278 ],\n",
              "       [0.9981278 ],\n",
              "       [0.9981278 ],\n",
              "       [0.9981278 ],\n",
              "       [0.9981278 ],\n",
              "       [0.9981278 ],\n",
              "       [0.9981278 ],\n",
              "       [0.9981278 ],\n",
              "       [0.9981278 ],\n",
              "       [0.9981278 ],\n",
              "       [0.9981278 ],\n",
              "       [0.9981278 ],\n",
              "       [0.9981278 ],\n",
              "       [0.9981278 ],\n",
              "       [0.9981278 ],\n",
              "       [0.9981278 ],\n",
              "       [0.9981278 ],\n",
              "       [0.9981278 ],\n",
              "       [0.9981278 ],\n",
              "       [0.9981278 ],\n",
              "       [0.9981278 ],\n",
              "       [0.9981278 ],\n",
              "       [0.9981278 ],\n",
              "       [0.9981278 ],\n",
              "       [0.9981278 ],\n",
              "       [0.9981278 ],\n",
              "       [0.9981278 ],\n",
              "       [0.9981278 ],\n",
              "       [0.9981278 ],\n",
              "       [0.9981278 ],\n",
              "       [0.9981278 ],\n",
              "       [0.9981278 ],\n",
              "       [0.9981278 ],\n",
              "       [0.9981278 ],\n",
              "       [0.9981278 ],\n",
              "       [0.9981278 ],\n",
              "       [0.9981278 ],\n",
              "       [0.9981278 ],\n",
              "       [0.9981278 ],\n",
              "       [0.9981278 ],\n",
              "       [0.9981278 ],\n",
              "       [0.9981278 ],\n",
              "       [0.9981278 ],\n",
              "       [0.9981278 ],\n",
              "       [0.9981278 ],\n",
              "       [0.9981278 ],\n",
              "       [0.9981278 ],\n",
              "       [0.9981278 ],\n",
              "       [0.9981278 ],\n",
              "       [0.9981278 ],\n",
              "       [0.9981278 ],\n",
              "       [0.9981278 ],\n",
              "       [0.9981278 ],\n",
              "       [0.9981278 ],\n",
              "       [0.9981278 ],\n",
              "       [0.9981278 ],\n",
              "       [0.9981278 ],\n",
              "       [0.9981278 ],\n",
              "       [0.9981278 ],\n",
              "       [0.9981278 ],\n",
              "       [0.9981278 ],\n",
              "       [0.9981278 ],\n",
              "       [0.9981278 ],\n",
              "       [0.9981278 ],\n",
              "       [0.9981278 ],\n",
              "       [0.9981278 ],\n",
              "       [0.9981278 ],\n",
              "       [0.9981278 ],\n",
              "       [0.9981278 ],\n",
              "       [0.9981278 ],\n",
              "       [0.9981278 ],\n",
              "       [0.9981278 ],\n",
              "       [0.9981278 ],\n",
              "       [0.9981278 ],\n",
              "       [0.9981278 ],\n",
              "       [0.9981278 ]])"
            ]
          },
          "metadata": {},
          "execution_count": 50
        }
      ]
    },
    {
      "cell_type": "markdown",
      "source": [
        "**IRIS DATASET**"
      ],
      "metadata": {
        "id": "TMVaBJwLbINq"
      }
    },
    {
      "cell_type": "code",
      "source": [
        "import numpy as np\n",
        "from sklearn.model_selection import train_test_split\n",
        "from sklearn.preprocessing import StandardScaler\n",
        "from sklearn.datasets import load_iris\n",
        "\n",
        "# Load Iris dataset\n",
        "iris = load_iris()\n",
        "X = iris.data\n",
        "y = iris.target\n",
        "\n",
        "# Standardize the input data\n",
        "scaler = StandardScaler()\n",
        "X = scaler.fit_transform(X)\n",
        "\n",
        "# Split the dataset into training and testing sets\n",
        "X_train, X_test, y_train, y_test = train_test_split(X, y, test_size=0.2, random_state=42)\n",
        "\n",
        "# One-hot encoding for the output labels\n",
        "def one_hot_encode(labels, num_classes):\n",
        "    one_hot_labels = np.zeros((len(labels), num_classes))\n",
        "    for i, label in enumerate(labels):\n",
        "        one_hot_labels[i, label] = 1\n",
        "    return one_hot_labels\n",
        "\n",
        "num_classes = len(np.unique(y))\n",
        "y_train_one_hot = one_hot_encode(y_train, num_classes)\n",
        "y_test_one_hot = one_hot_encode(y_test, num_classes)\n",
        "\n",
        "# Define the neural network architecture\n",
        "input_size = X_train.shape[1]\n",
        "hidden_size = 8\n",
        "output_size = num_classes\n",
        "learning_rate = 0.01\n",
        "epochs = 1000\n",
        "\n",
        "# Initialize weights and biases\n",
        "np.random.seed(42)\n",
        "weights_input_hidden = np.random.randn(input_size, hidden_size)\n",
        "biases_input_hidden = np.zeros((1, hidden_size))\n",
        "weights_hidden_output = np.random.randn(hidden_size, output_size)\n",
        "biases_hidden_output = np.zeros((1, output_size))\n",
        "\n",
        "# Sigmoid activation function\n",
        "def sigmoid(x):\n",
        "    return 1 / (1 + np.exp(-x))\n",
        "\n",
        "# Softmax activation function\n",
        "def softmax(x):\n",
        "    exp_x = np.exp(x - np.max(x, axis=1, keepdims=True))\n",
        "    return exp_x / np.sum(exp_x, axis=1, keepdims=True)\n",
        "\n",
        "# Cross-entropy loss function\n",
        "def cross_entropy_loss(predictions, targets):\n",
        "    m = targets.shape[0]\n",
        "    return -np.sum(targets * np.log(predictions)) / m\n",
        "\n",
        "# Training the neural network\n",
        "for epoch in range(epochs):\n",
        "    # Forward pass\n",
        "    hidden_input = np.dot(X_train, weights_input_hidden) + biases_input_hidden\n",
        "    hidden_output = sigmoid(hidden_input)\n",
        "    final_input = np.dot(hidden_output, weights_hidden_output) + biases_hidden_output\n",
        "    final_output = softmax(final_input)\n",
        "\n",
        "    # Calculate loss\n",
        "    loss = cross_entropy_loss(final_output, y_train_one_hot)\n",
        "\n",
        "    # Backward pass\n",
        "    output_error = final_output - y_train_one_hot\n",
        "    hidden_layer_error = np.dot(output_error, weights_hidden_output.T) * (hidden_output * (1 - hidden_output))\n",
        "\n",
        "    # Update weights and biases\n",
        "    weights_hidden_output -= learning_rate * np.dot(hidden_output.T, output_error)\n",
        "    biases_hidden_output -= learning_rate * np.sum(output_error, axis=0, keepdims=True)\n",
        "    weights_input_hidden -= learning_rate * np.dot(X_train.T, hidden_layer_error)\n",
        "    biases_input_hidden -= learning_rate * np.sum(hidden_layer_error, axis=0, keepdims=True)\n",
        "\n",
        "    # Print loss every 100 epochs\n",
        "    if epoch % 100 == 0:\n",
        "        print(f\"Epoch {epoch}, Loss: {loss}\")\n",
        "\n",
        "# Testing the neural network\n",
        "hidden_input_test = np.dot(X_test, weights_input_hidden) + biases_input_hidden\n",
        "hidden_output_test = sigmoid(hidden_input_test)\n",
        "final_input_test = np.dot(hidden_output_test, weights_hidden_output) + biases_hidden_output\n",
        "final_output_test = softmax(final_input_test)\n",
        "\n",
        "# Calculate accuracy\n",
        "predictions = np.argmax(final_output_test, axis=1)\n",
        "accuracy = np.mean(predictions == y_test)\n",
        "print(f\"Test Accuracy: {accuracy * 100}%\")\n"
      ],
      "metadata": {
        "colab": {
          "base_uri": "https://localhost:8080/"
        },
        "id": "ahJcOWzZY_ea",
        "outputId": "95c016bd-36ea-47c9-ae3e-8e2b2a067d27"
      },
      "execution_count": null,
      "outputs": [
        {
          "output_type": "stream",
          "name": "stdout",
          "text": [
            "Epoch 0, Loss: 1.6242590408494215\n",
            "Epoch 100, Loss: 0.1111457208029964\n",
            "Epoch 200, Loss: 0.07292923063985161\n",
            "Epoch 300, Loss: 0.06166077000668467\n",
            "Epoch 400, Loss: 0.05637164928158071\n",
            "Epoch 500, Loss: 0.05335481992636358\n",
            "Epoch 600, Loss: 0.05143126724238558\n",
            "Epoch 700, Loss: 0.05010761268761585\n",
            "Epoch 800, Loss: 0.04914221729367783\n",
            "Epoch 900, Loss: 0.04840401738983716\n",
            "Test Accuracy: 100.0%\n"
          ]
        }
      ]
    },
    {
      "cell_type": "code",
      "source": [],
      "metadata": {
        "id": "8imsP2t5aJpu"
      },
      "execution_count": null,
      "outputs": []
    }
  ]
}