{
  "nbformat": 4,
  "nbformat_minor": 0,
  "metadata": {
    "colab": {
      "provenance": [],
      "include_colab_link": true
    },
    "kernelspec": {
      "name": "python3",
      "display_name": "Python 3"
    },
    "language_info": {
      "name": "python"
    }
  },
  "cells": [
    {
      "cell_type": "markdown",
      "metadata": {
        "id": "view-in-github",
        "colab_type": "text"
      },
      "source": [
        "<a href=\"https://colab.research.google.com/github/Asma-malica/DL/blob/main/DL_CNN_TensorFlow.ipynb\" target=\"_parent\"><img src=\"https://colab.research.google.com/assets/colab-badge.svg\" alt=\"Open In Colab\"/></a>"
      ]
    },
    {
      "cell_type": "code",
      "execution_count": null,
      "metadata": {
        "id": "rgaVlaMD6kHW"
      },
      "outputs": [],
      "source": [
        "import tensorflow as tf\n",
        "from keras.datasets import fashion_mnist\n",
        "from keras import layers,models\n",
        "from keras.utils import to_categorical"
      ]
    },
    {
      "cell_type": "code",
      "source": [
        "(train_images,train_labels),(test_images,test_labels)=fashion_mnist.load_data()"
      ],
      "metadata": {
        "colab": {
          "base_uri": "https://localhost:8080/"
        },
        "id": "WIJcvXrv7QQj",
        "outputId": "5c417cc4-6d78-4bdc-8e48-cfbc91109886"
      },
      "execution_count": null,
      "outputs": [
        {
          "output_type": "stream",
          "name": "stdout",
          "text": [
            "Downloading data from https://storage.googleapis.com/tensorflow/tf-keras-datasets/train-labels-idx1-ubyte.gz\n",
            "29515/29515 [==============================] - 0s 0us/step\n",
            "Downloading data from https://storage.googleapis.com/tensorflow/tf-keras-datasets/train-images-idx3-ubyte.gz\n",
            "26421880/26421880 [==============================] - 1s 0us/step\n",
            "Downloading data from https://storage.googleapis.com/tensorflow/tf-keras-datasets/t10k-labels-idx1-ubyte.gz\n",
            "5148/5148 [==============================] - 0s 0us/step\n",
            "Downloading data from https://storage.googleapis.com/tensorflow/tf-keras-datasets/t10k-images-idx3-ubyte.gz\n",
            "4422102/4422102 [==============================] - 1s 0us/step\n"
          ]
        }
      ]
    },
    {
      "cell_type": "code",
      "source": [
        "train_images,test_images=train_images/255.0,test_images/255.0 #normalize"
      ],
      "metadata": {
        "id": "rAO1uuhY7wKh"
      },
      "execution_count": null,
      "outputs": []
    },
    {
      "cell_type": "code",
      "source": [
        " train_images = train_images.reshape((60000,28,28,1))\n",
        " test_images = test_images.reshape((10000,28,28,1))"
      ],
      "metadata": {
        "id": "pTJUHfre8OFC"
      },
      "execution_count": null,
      "outputs": []
    },
    {
      "cell_type": "code",
      "source": [
        "#convert  into  onehot encoding\n",
        "train_labels = to_categorical(train_labels)\n",
        "test_labels = to_categorical(test_labels)"
      ],
      "metadata": {
        "id": "uiYfz0YS9jk_"
      },
      "execution_count": null,
      "outputs": []
    },
    {
      "cell_type": "code",
      "source": [
        "# Build the CNN model\n",
        "model = models.Sequential()\n",
        "\n",
        "# Convolutional layers\n",
        "model.add(layers.Conv2D(32, (3, 3), activation='relu', input_shape=(28, 28, 1))) #filter = 32 size - 3*3\n",
        "model.add(layers.MaxPooling2D((2, 2)))\n",
        "model.add(layers.Conv2D(64, (3, 3), activation='relu'))\n",
        "model.add(layers.MaxPooling2D((2, 2)))\n",
        "model.add(layers.Conv2D(64, (3, 3), activation='relu'))\n"
      ],
      "metadata": {
        "id": "Lwl4IC4e_MKr"
      },
      "execution_count": null,
      "outputs": []
    },
    {
      "cell_type": "code",
      "source": [
        "# Dense layers\n",
        "model.add(layers.Flatten())\n",
        "model.add(layers.Dense(256, activation='relu'))\n",
        "model.add(layers.Dense(128, activation='relu'))\n",
        "model.add(layers.Dense(10, activation='softmax'))  # 10 output classes for Fashion MNIST\n",
        "\n",
        "# Compile the model\n",
        "model.compile(optimizer='adam',\n",
        "              loss='categorical_crossentropy',\n",
        "              metrics=['accuracy'])\n",
        "\n",
        "# Train the model\n",
        "model.fit(train_images, train_labels, epochs=10, validation_data=(test_images, test_labels))"
      ],
      "metadata": {
        "colab": {
          "base_uri": "https://localhost:8080/"
        },
        "id": "drJU0QjrARAW",
        "outputId": "abb82215-0bc4-497b-9a09-86e6aadaace9"
      },
      "execution_count": null,
      "outputs": [
        {
          "output_type": "stream",
          "name": "stdout",
          "text": [
            "Epoch 1/10\n",
            "1875/1875 [==============================] - 66s 34ms/step - loss: 0.4873 - accuracy: 0.8191 - val_loss: 0.3383 - val_accuracy: 0.8747\n",
            "Epoch 2/10\n",
            "1875/1875 [==============================] - 64s 34ms/step - loss: 0.3095 - accuracy: 0.8850 - val_loss: 0.3277 - val_accuracy: 0.8796\n",
            "Epoch 3/10\n",
            "1875/1875 [==============================] - 61s 32ms/step - loss: 0.2642 - accuracy: 0.9013 - val_loss: 0.2770 - val_accuracy: 0.8997\n",
            "Epoch 4/10\n",
            "1875/1875 [==============================] - 61s 33ms/step - loss: 0.2336 - accuracy: 0.9142 - val_loss: 0.2708 - val_accuracy: 0.9012\n",
            "Epoch 5/10\n",
            "1875/1875 [==============================] - 65s 34ms/step - loss: 0.2112 - accuracy: 0.9208 - val_loss: 0.2638 - val_accuracy: 0.9052\n",
            "Epoch 6/10\n",
            "1875/1875 [==============================] - 63s 34ms/step - loss: 0.1901 - accuracy: 0.9283 - val_loss: 0.2753 - val_accuracy: 0.9034\n",
            "Epoch 7/10\n",
            "1875/1875 [==============================] - 61s 32ms/step - loss: 0.1710 - accuracy: 0.9353 - val_loss: 0.2566 - val_accuracy: 0.9116\n",
            "Epoch 8/10\n",
            "1875/1875 [==============================] - 60s 32ms/step - loss: 0.1553 - accuracy: 0.9409 - val_loss: 0.2717 - val_accuracy: 0.9096\n",
            "Epoch 9/10\n",
            "1875/1875 [==============================] - 62s 33ms/step - loss: 0.1423 - accuracy: 0.9460 - val_loss: 0.2757 - val_accuracy: 0.9157\n",
            "Epoch 10/10\n",
            "1875/1875 [==============================] - 62s 33ms/step - loss: 0.1271 - accuracy: 0.9513 - val_loss: 0.2951 - val_accuracy: 0.9119\n"
          ]
        },
        {
          "output_type": "execute_result",
          "data": {
            "text/plain": [
              "<keras.src.callbacks.History at 0x78c4bb7890c0>"
            ]
          },
          "metadata": {},
          "execution_count": 8
        }
      ]
    },
    {
      "cell_type": "code",
      "source": [],
      "metadata": {
        "id": "tuiXTrfEATwi"
      },
      "execution_count": null,
      "outputs": []
    }
  ]
}